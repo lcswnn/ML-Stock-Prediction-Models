{
 "cells": [
  {
   "cell_type": "markdown",
   "metadata": {},
   "source": [
    "## Machine Learning Stock Predictions using Logistic Regressing, KNearest Neighbors, Decision Trees, MLP, and SVC"
   ]
  },
  {
   "cell_type": "code",
   "execution_count": 288,
   "metadata": {},
   "outputs": [],
   "source": [
    "#import Libraries\n",
    "import pandas as pd \n",
    "import numpy as np\n",
    "\n",
    "import matplotlib.pyplot as plt "
   ]
  },
  {
   "cell_type": "code",
   "execution_count": 289,
   "metadata": {},
   "outputs": [
    {
     "data": {
      "text/html": [
       "<div>\n",
       "<style scoped>\n",
       "    .dataframe tbody tr th:only-of-type {\n",
       "        vertical-align: middle;\n",
       "    }\n",
       "\n",
       "    .dataframe tbody tr th {\n",
       "        vertical-align: top;\n",
       "    }\n",
       "\n",
       "    .dataframe thead th {\n",
       "        text-align: right;\n",
       "    }\n",
       "</style>\n",
       "<table border=\"1\" class=\"dataframe\">\n",
       "  <thead>\n",
       "    <tr style=\"text-align: right;\">\n",
       "      <th></th>\n",
       "      <th>Open</th>\n",
       "      <th>High</th>\n",
       "      <th>Low</th>\n",
       "      <th>Close</th>\n",
       "      <th>Volume</th>\n",
       "    </tr>\n",
       "  </thead>\n",
       "  <tbody>\n",
       "    <tr>\n",
       "      <th>0</th>\n",
       "      <td>0.06720</td>\n",
       "      <td>0.07533</td>\n",
       "      <td>0.06720</td>\n",
       "      <td>0.07533</td>\n",
       "      <td>1371330506</td>\n",
       "    </tr>\n",
       "    <tr>\n",
       "      <th>1</th>\n",
       "      <td>0.07533</td>\n",
       "      <td>0.07533</td>\n",
       "      <td>0.07533</td>\n",
       "      <td>0.07533</td>\n",
       "      <td>409569463</td>\n",
       "    </tr>\n",
       "    <tr>\n",
       "      <th>2</th>\n",
       "      <td>0.07533</td>\n",
       "      <td>0.07533</td>\n",
       "      <td>0.07533</td>\n",
       "      <td>0.07533</td>\n",
       "      <td>176995245</td>\n",
       "    </tr>\n",
       "    <tr>\n",
       "      <th>3</th>\n",
       "      <td>0.07533</td>\n",
       "      <td>0.07533</td>\n",
       "      <td>0.07533</td>\n",
       "      <td>0.07533</td>\n",
       "      <td>90067008</td>\n",
       "    </tr>\n",
       "    <tr>\n",
       "      <th>4</th>\n",
       "      <td>0.07533</td>\n",
       "      <td>0.07533</td>\n",
       "      <td>0.07533</td>\n",
       "      <td>0.07533</td>\n",
       "      <td>63655515</td>\n",
       "    </tr>\n",
       "    <tr>\n",
       "      <th>...</th>\n",
       "      <td>...</td>\n",
       "      <td>...</td>\n",
       "      <td>...</td>\n",
       "      <td>...</td>\n",
       "      <td>...</td>\n",
       "    </tr>\n",
       "    <tr>\n",
       "      <th>7978</th>\n",
       "      <td>84.20000</td>\n",
       "      <td>84.70000</td>\n",
       "      <td>84.08250</td>\n",
       "      <td>84.47000</td>\n",
       "      <td>19852151</td>\n",
       "    </tr>\n",
       "    <tr>\n",
       "      <th>7979</th>\n",
       "      <td>84.77000</td>\n",
       "      <td>84.90000</td>\n",
       "      <td>83.93000</td>\n",
       "      <td>84.26000</td>\n",
       "      <td>17927878</td>\n",
       "    </tr>\n",
       "    <tr>\n",
       "      <th>7980</th>\n",
       "      <td>84.14000</td>\n",
       "      <td>84.61000</td>\n",
       "      <td>83.83000</td>\n",
       "      <td>84.56000</td>\n",
       "      <td>18029584</td>\n",
       "    </tr>\n",
       "    <tr>\n",
       "      <th>7981</th>\n",
       "      <td>84.11000</td>\n",
       "      <td>84.27000</td>\n",
       "      <td>82.90000</td>\n",
       "      <td>84.09000</td>\n",
       "      <td>21175384</td>\n",
       "    </tr>\n",
       "    <tr>\n",
       "      <th>7982</th>\n",
       "      <td>83.79000</td>\n",
       "      <td>84.09500</td>\n",
       "      <td>83.23000</td>\n",
       "      <td>83.87000</td>\n",
       "      <td>19396301</td>\n",
       "    </tr>\n",
       "  </tbody>\n",
       "</table>\n",
       "<p>7983 rows × 5 columns</p>\n",
       "</div>"
      ],
      "text/plain": [
       "          Open      High       Low     Close      Volume\n",
       "0      0.06720   0.07533   0.06720   0.07533  1371330506\n",
       "1      0.07533   0.07533   0.07533   0.07533   409569463\n",
       "2      0.07533   0.07533   0.07533   0.07533   176995245\n",
       "3      0.07533   0.07533   0.07533   0.07533    90067008\n",
       "4      0.07533   0.07533   0.07533   0.07533    63655515\n",
       "...        ...       ...       ...       ...         ...\n",
       "7978  84.20000  84.70000  84.08250  84.47000    19852151\n",
       "7979  84.77000  84.90000  83.93000  84.26000    17927878\n",
       "7980  84.14000  84.61000  83.83000  84.56000    18029584\n",
       "7981  84.11000  84.27000  82.90000  84.09000    21175384\n",
       "7982  83.79000  84.09500  83.23000  83.87000    19396301\n",
       "\n",
       "[7983 rows x 5 columns]"
      ]
     },
     "execution_count": 289,
     "metadata": {},
     "output_type": "execute_result"
    }
   ],
   "source": [
    "data = pd.read_csv(\"Stocks/msft.us.txt\")\n",
    "data = data.drop(columns=['OpenInt', 'Date'])\n",
    "data"
   ]
  },
  {
   "cell_type": "code",
   "execution_count": 290,
   "metadata": {},
   "outputs": [],
   "source": [
    "#fearures and X, y\n",
    "features = ['Open', 'High', 'Low']\n",
    "\n",
    "X = data.loc[:, features].values\n",
    "y = data.loc[:, ['Close']].values\n",
    "\n",
    "y = y.astype('int64')"
   ]
  },
  {
   "cell_type": "code",
   "execution_count": 291,
   "metadata": {},
   "outputs": [
    {
     "name": "stderr",
     "output_type": "stream",
     "text": [
      "c:\\Program Files\\Python39\\lib\\site-packages\\sklearn\\base.py:1473: DataConversionWarning: A column-vector y was passed when a 1d array was expected. Please change the shape of y to (n_samples,), for example using ravel().\n",
      "  return fit_method(estimator, *args, **kwargs)\n"
     ]
    }
   ],
   "source": [
    "#Random Forest to find importance of features\n",
    "from sklearn.ensemble import RandomForestClassifier\n",
    "\n",
    "model = RandomForestClassifier()\n",
    "model.fit(X, y)\n",
    "\n",
    "features2 = features\n",
    "importances = model.feature_importances_\n",
    "indicies = np.argsort(importances)"
   ]
  },
  {
   "cell_type": "code",
   "execution_count": 292,
   "metadata": {},
   "outputs": [
    {
     "data": {
      "image/png": "[encoded data removed]",
      "text/plain": [
       "<Figure size 640x480 with 1 Axes>"
      ]
     },
     "metadata": {},
     "output_type": "display_data"
    }
   ],
   "source": [
    "#plot the importances\n",
    "plt.title('Feature Importances')\n",
    "plt.barh(range(len(indicies)), importances[indicies], color='b', align='center')\n",
    "plt.yticks(range(len(indicies)), [features[i] for i in indicies])\n",
    "plt.xlabel('Relative Importance')\n",
    "plt.show()"
   ]
  },
  {
   "cell_type": "markdown",
   "metadata": {},
   "source": [
    "* From the chart above, we found that Volume was not important when it came to relevance, so we eliminated it from the features list that we input into the models.\n",
    "* High, Low, and Close will stay in the features list, as we find them to all be of similar importance for the models.\n",
    "* Random Forest, in this case, would be a good model to use to graph importance, since it searches for the best features that would return the best results. Here we are asking it to graph all features in the list by their importance, and we find that Volume isn't as important as the other three, which must've showed up more in the results the classifier produced."
   ]
  },
  {
   "cell_type": "code",
   "execution_count": 293,
   "metadata": {},
   "outputs": [
    {
     "name": "stdout",
     "output_type": "stream",
     "text": [
      "(7983, 3) (7983, 1)\n"
     ]
    }
   ],
   "source": [
    "#Train/Test Split for Regression Model\n",
    "from sklearn.model_selection import train_test_split\n",
    "print(X.shape, y.shape)\n",
    "\n",
    "X_train, X_test, y_train, y_test = train_test_split(X, y, train_size=0.7)"
   ]
  },
  {
   "cell_type": "code",
   "execution_count": 294,
   "metadata": {},
   "outputs": [
    {
     "name": "stdout",
     "output_type": "stream",
     "text": [
      "Log Regression Accuracy: 0.33110647181628394\n",
      "Mean Squared Error: 78.59\n",
      "Coefficient of determination (R^2): 0.69\n"
     ]
    },
    {
     "name": "stderr",
     "output_type": "stream",
     "text": [
      "c:\\Program Files\\Python39\\lib\\site-packages\\sklearn\\linear_model\\_logistic.py:469: ConvergenceWarning: lbfgs failed to converge (status=1):\n",
      "STOP: TOTAL NO. of ITERATIONS REACHED LIMIT.\n",
      "\n",
      "Increase the number of iterations (max_iter) or scale the data as shown in:\n",
      "    https://scikit-learn.org/stable/modules/preprocessing.html\n",
      "Please also refer to the documentation for alternative solver options:\n",
      "    https://scikit-learn.org/stable/modules/linear_model.html#logistic-regression\n",
      "  n_iter_i = _check_optimize_result(\n"
     ]
    }
   ],
   "source": [
    "#Training and scoring Logistic Regression Model\n",
    "from sklearn.linear_model import LogisticRegression\n",
    "from sklearn.metrics import mean_squared_error, r2_score\n",
    "model = LogisticRegression()\n",
    "\n",
    "#Regression model\n",
    "model.fit(X_train, y_train.ravel())\n",
    "Y_pred = model.predict(X_test)\n",
    "Y_pred = Y_pred.astype('int64')\n",
    "\n",
    "#score this model\n",
    "log_acc = model.score(X_test, y_test)\n",
    "\n",
    "#print score\n",
    "print(\"Log Regression Accuracy: \" + str(log_acc))\n",
    "print('Mean Squared Error: %.2f' % mean_squared_error(y_test, Y_pred))\n",
    "print(\"Coefficient of determination (R^2): %.2f\" % r2_score(y_test, Y_pred))"
   ]
  },
  {
   "cell_type": "code",
   "execution_count": 295,
   "metadata": {},
   "outputs": [
    {
     "name": "stdout",
     "output_type": "stream",
     "text": [
      "Linear Regression Accuracy: 0.9995795778948688\n",
      "Mean Squared Error: 0.41\n",
      "Coefficient of determination (R^2): 1.00\n",
      "[-0.48154145  0.72235165  0.75851532]\n"
     ]
    }
   ],
   "source": [
    "from sklearn.linear_model import LinearRegression\n",
    "\n",
    "linModel = LinearRegression()\n",
    "\n",
    "#Regression model\n",
    "linModel.fit(X_train, y_train.ravel())\n",
    "lin_pred = linModel.predict(X_test)\n",
    "lin_pred = lin_pred.astype('int64')\n",
    "\n",
    "#score this model\n",
    "lin_acc = linModel.score(X_test, y_test)\n",
    "\n",
    "#print score\n",
    "print(\"Linear Regression Accuracy: \" + str(lin_acc))\n",
    "linMSE = mean_squared_error(y_test, lin_pred)\n",
    "print('Mean Squared Error: %.2f' % linMSE)\n",
    "print(\"Coefficient of determination (R^2): %.2f\" % r2_score(y_test, lin_pred))\n",
    "print(linModel.coef_)"
   ]
  },
  {
   "cell_type": "markdown",
   "metadata": {},
   "source": [
    "* From these coefficients printed, we can use them to predict the next iterrations of MSFT.\n",
    "\n",
    "**Equation Given:** Close Price = (-0.48872005 x Close) + (0.72983204 x High) - (0.7581445 x Low)"
   ]
  },
  {
   "cell_type": "code",
   "execution_count": 296,
   "metadata": {},
   "outputs": [
    {
     "name": "stdout",
     "output_type": "stream",
     "text": [
      "K-Nearest-Neighbors Accuracy: 0.8881002087682672\n",
      "Mean Squared Error: 0.11\n",
      "Coefficient of determination (R^2): 1.00\n"
     ]
    }
   ],
   "source": [
    "#Training and scoring KNeighbors Model\n",
    "from sklearn.neighbors import KNeighborsClassifier\n",
    "kNearModel = KNeighborsClassifier()\n",
    "\n",
    "#Kneighbor model\n",
    "kNearModel.fit(X_train, y_train.ravel())\n",
    "kNear_pred = kNearModel.predict(X_test)\n",
    "kNear_pred = kNear_pred.astype('int64')\n",
    "\n",
    "#NearModel score\n",
    "kNear_acc = kNearModel.score(X_test, y_test)\n",
    "\n",
    "#print score\n",
    "print(\"K-Nearest-Neighbors Accuracy: \" + str(kNear_acc))\n",
    "print('Mean Squared Error: %.2f' % mean_squared_error(y_test, kNear_pred))\n",
    "print(\"Coefficient of determination (R^2): %.2f\" % r2_score(y_test, kNear_pred))\n",
    "\n"
   ]
  },
  {
   "cell_type": "code",
   "execution_count": 297,
   "metadata": {},
   "outputs": [
    {
     "name": "stdout",
     "output_type": "stream",
     "text": [
      "Decision Tree Accuracy: 0.8797494780793319\n",
      "Mean Squared Error: 0.13\n",
      "Coefficient of determination (R^2): 1.00\n"
     ]
    }
   ],
   "source": [
    "#Training and scoring Decision Tree model\n",
    "from sklearn.tree import DecisionTreeClassifier\n",
    "desTreeModel = DecisionTreeClassifier()\n",
    "\n",
    "#desTree model\n",
    "desTreeModel.fit(X_train, y_train.ravel())\n",
    "desTree_pred = desTreeModel.predict(X_test)\n",
    "desTree_pred = desTree_pred.astype('int64')\n",
    "\n",
    "#desTree score\n",
    "desTree_acc = desTreeModel.score(X_test, y_test)\n",
    "\n",
    "#print score\n",
    "print(\"Decision Tree Accuracy: \" + str(desTree_acc))\n",
    "print('Mean Squared Error: %.2f' % mean_squared_error(y_test, desTree_pred))\n",
    "print(\"Coefficient of determination (R^2): %.2f\" % r2_score(y_test, desTree_pred))"
   ]
  },
  {
   "cell_type": "code",
   "execution_count": 298,
   "metadata": {},
   "outputs": [
    {
     "name": "stdout",
     "output_type": "stream",
     "text": [
      "Neural Network Accuracy: 0.5832985386221294\n",
      "Mean Squared Error: 1.45\n",
      "Coefficient of determination (R^2): 0.99\n"
     ]
    },
    {
     "name": "stderr",
     "output_type": "stream",
     "text": [
      "c:\\Program Files\\Python39\\lib\\site-packages\\sklearn\\neural_network\\_multilayer_perceptron.py:690: ConvergenceWarning: Stochastic Optimizer: Maximum iterations (200) reached and the optimization hasn't converged yet.\n",
      "  warnings.warn(\n"
     ]
    }
   ],
   "source": [
    "#Training and scoring MLP ClassifierS\n",
    "from sklearn.neural_network import MLPClassifier\n",
    "mlpModel = MLPClassifier()\n",
    "\n",
    "#mlp Model\n",
    "mlpModel.fit(X_train, y_train.ravel())\n",
    "mlp_pred = mlpModel.predict(X_test)\n",
    "mlp_pred = mlp_pred.astype('int64')\n",
    "\n",
    "#mlp model score\n",
    "mlp_acc = mlpModel.score(X_test, y_test)\n",
    "\n",
    "#print score\n",
    "print(\"Neural Network Accuracy: \" + str(mlp_acc))\n",
    "print('Mean Squared Error: %.2f' % mean_squared_error(y_test, mlp_pred))\n",
    "print(\"Coefficient of determination (R^2): %.2f\" % r2_score(y_test, mlp_pred))"
   ]
  },
  {
   "cell_type": "code",
   "execution_count": 299,
   "metadata": {},
   "outputs": [
    {
     "name": "stdout",
     "output_type": "stream",
     "text": [
      "Support Vector Accuracy: 0.6538622129436326\n",
      "Mean Squared Error: 0.68\n",
      "Coefficient of determination (R^2): 1.00\n"
     ]
    }
   ],
   "source": [
    "#Training and scoring SVC model\n",
    "from sklearn.svm import SVC\n",
    "svcModel = SVC()\n",
    "\n",
    "#svc model\n",
    "svcModel.fit(X_train, y_train.ravel())\n",
    "svc_pred = svcModel.predict(X_test)\n",
    "svc_pred = svc_pred.astype('int64')\n",
    "\n",
    "#svc model score\n",
    "svc_acc = svcModel.score(X_test, y_test)\n",
    "\n",
    "#print score\n",
    "print(\"Support Vector Accuracy: \" + str(svc_acc))\n",
    "print('Mean Squared Error: %.2f' % mean_squared_error(y_test, svc_pred))\n",
    "print(\"Coefficient of determination (R^2): %.2f\" % r2_score(y_test, svc_pred))"
   ]
  },
  {
   "cell_type": "code",
   "execution_count": 300,
   "metadata": {},
   "outputs": [
    {
     "data": {
      "image/png": "[encoded data removed]",
      "text/plain": [
       "<Figure size 1300x500 with 1 Axes>"
      ]
     },
     "metadata": {},
     "output_type": "display_data"
    }
   ],
   "source": [
    "#Create a bar graph showing the difference between the model performances\n",
    "fig = plt.figure(figsize = (13, 5))\n",
    "# creating the bar plot\n",
    "bars = plt.bar(['LogisticRegression', 'LinearRegression', 'KNeighborsClassifier', 'DecisionTreeClassifier', 'Neural Network', \"SVC Model\"], [log_acc, lin_acc, kNear_acc, desTree_acc, mlp_acc, svc_acc], \n",
    "        width = 0.4)\n",
    "plt.xlabel(\"Model Type\")\n",
    "plt.ylabel(\"Performance\")\n",
    "plt.title(\"Model Performance Predicting Stock Prices\")\n",
    "bars[0].set_color('red')\n",
    "bars[1].set_color('blue')\n",
    "bars[2].set_color('green')\n",
    "bars[3].set_color('purple')\n",
    "bars[4].set_color('brown')\n",
    "bars[5].set_color('pink')\n",
    "plt.show()"
   ]
  },
  {
   "cell_type": "markdown",
   "metadata": {},
   "source": [
    "### Using Equation found from Linear Regression"
   ]
  },
  {
   "cell_type": "code",
   "execution_count": 306,
   "metadata": {},
   "outputs": [
    {
     "name": "stdout",
     "output_type": "stream",
     "text": [
      "Date 11/2/2017 will close in range 82.96 to 84.24\n",
      "Date 11/3/2017 will close in range 82.71 to 84.0\n",
      "Date 11/4/2017 will close in range 82.43 to 83.71\n",
      "Date 11/5/2017 will close in range 83.28 to 84.56\n",
      "Date 11/6/2017 will close in range 83.2 to 84.48\n",
      "Date 11/7/2017 will close in range 83.77 to 85.06\n",
      "Date 11/8/2017 will close in range 83.53 to 84.81\n",
      "Date 11/9/2017 will close in range 83.55 to 84.83\n",
      "Date 11/10/2017 will close in range 82.61 to 83.89\n",
      "Date 11/11/2017 will close in range 82.89 to 84.17\n"
     ]
    }
   ],
   "source": [
    "#MSE = sqrt(mse) +- open/high/low/close\n",
    "import math as m \n",
    "\n",
    "i = 7973\n",
    "j = 2\n",
    "while i < 7983:\n",
    "  open = data['Open'][i]\n",
    "  high = data['High'][i]\n",
    "  low = data['Low'][i]\n",
    "  date = \"11/\" + str(j) + \"/2017\"\n",
    "\n",
    "  #using coeffs from lin. regress. to find next close (range for MSE)\n",
    "  nextClose1 = (linModel.coef_[0] * open) + (linModel.coef_[1] * high) + (linModel.coef_[2] * low) + m.sqrt(linMSE)\n",
    "  nextClose2 = (linModel.coef_[0] * open) + (linModel.coef_[1] * high) + (linModel.coef_[2] * low) - m.sqrt(linMSE)\n",
    "\n",
    "  print(\"Date \" + date + \" will close in range \" + str(round(nextClose2, 2)) + \" to \" + str(round(nextClose1, 2)))\n",
    "  i = i + 1\n",
    "  j = j + 1\n",
    "\n"
   ]
  },
  {
   "cell_type": "markdown",
   "metadata": {},
   "source": [
    "Iterating through the data, we find that every time we make a range for the next close using the data from the previous day, we get it right. For instance, the closes that the iterations are predicting turned out to be, in order:\n",
    "* 11/02/2017 closed at: 83.18 - Between 82.96 and 84.24 - Correct\n",
    "* 11/03/2017 closed at: 83.18 - Between 82.71 and 84.00 - Correct\n",
    "* 11/04/2017 closed at: 84.05 - Between 82.43 and 83.71 - Wrong\n",
    "* 11/05/2017 closed at: 84.14 - Between 83.28 and 84.56 - Correct\n",
    "* 11/06/2017 closed at: 84.47 - Between 83.20 and 84.48 - Correct\n",
    "* 11/07/2017 closed at: 84.26 - Between 83.77 and 85.06 - Correct\n",
    "* 11/08/2017 closed at: 84.56 - Between 83.53 and 84.81 - Correct\n",
    "* 11/09/2017 closed at: 84.09 - Between 83.55 and 84.83 - Correct\n",
    "* 11/10/2017 closed at: 83.87 - Between 82.61 and 83.89 - Correct\n",
    "* (Found Online) 11/11/2017 closed at: 83.93 - Between 82.89 and 84.17 - Correct\n",
    "\n",
    "Our findings here show us our model seems to be right a lot of the time. However, we do see that we found one date which was wrong, showing that the model isn't always 100% correct, but rather, 0.999% correct.\n",
    "\n"
   ]
  },
  {
   "cell_type": "markdown",
   "metadata": {},
   "source": [
    "## Conclusions\n",
    "\n",
    "1. There are different results for different stocks. When it comes to $AAPL and $MSFT, we find that the models do better. This could be do to less volatility in their prices listed in the data sets. When we choose a stock like $AMZN for instance, we find that the models don't fare as well, again, possibly due to volatility and unpredictiveness in the stock price.\n",
    "\n",
    "2. Linear Regression trumps all other models in this use case. We find that no matter what stock you pass in into the program, it is always predicting with 0.98 accuracy or better. It was consistent in all cases I have tested with it. This would be due to the linear-like path stocks tend to take as time goes on. You can look at all stock charts and see this visually. The consistency of the stock prices helps with this, as we find that it is a gradual climb or fall for many stocks.\n",
    "\n",
    "3. The worst performing model would be logistic regression. Even though it is strong in other use cases, here, it is not. Again, looking at stock charts, we find that they take more of a linear path, not a logistic one. In the future when more data is available and if the market seems to plateau, showing a logistic path, then we may find this one working in the future, but not at this time.\n",
    "\n",
    "4. KNeighbors, Decision Trees, Neural Networks, and SVC models all seem to perform based on what stock is being passed into the program. If it is a stock that is not a volatile, or doesn't change in price drastically, then we find that the models tend to perform decently, sitting in the 0.88-0.61 range. However, when we find a stock that would be considered to be more volatile or more drastic in its price changes, we find that the models don't perform as well, somestimes even sitting below 0.10. AAPL Charts and MSFT Charts show the models performing well, and the FB and AMZN charts show the model performing poorly.\n",
    "\n",
    "5. If given more data, especially with the recent boom in AI, I think we would find the models performing differently. This historical data is updated only to 2017, so more recent data and recent trends would make the models produce different results. For instance, one company who has felt the effects of the AI boom for the better would be $NVDA. Here, the highest their price had got to was 213.08. Now, the stock is over 1,000. The models currently do not take in news and other data of that kind, meaning they wouldn't know an AI boom has happened. This would affect the accuracy of the models and their predictions would be off, making their scores lower.\n",
    "\n",
    "\n",
    "##### **Disclaimer**: As mentioned in the conclusions, this historical data ranges all the way up to 2017. Past 2017 is not in this dataset, but could be added later and tested to find different results."
   ]
  }
 ],
 "metadata": {
  "kernelspec": {
   "display_name": "Python 3",
   "language": "python",
   "name": "python3"
  },
  "language_info": {
   "codemirror_mode": {
    "name": "ipython",
    "version": 3
   },
   "file_extension": ".py",
   "mimetype": "text/x-python",
   "name": "python",
   "nbconvert_exporter": "python",
   "pygments_lexer": "ipython3",
   "version": "3.9.6"
  }
 },
 "nbformat": 4,
 "nbformat_minor": 2
}
